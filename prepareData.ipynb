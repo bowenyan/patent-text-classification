{
 "cells": [
  {
   "cell_type": "markdown",
   "metadata": {},
   "source": [
    "# Use USPTO-2M dataset"
   ]
  },
  {
   "cell_type": "code",
   "execution_count": 10,
   "metadata": {
    "collapsed": true
   },
   "outputs": [],
   "source": [
    "import json\n",
    "import glob\n",
    "import pandas as pd"
   ]
  },
  {
   "cell_type": "code",
   "execution_count": 16,
   "metadata": {
    "collapsed": true
   },
   "outputs": [],
   "source": [
    "#merge json files\n",
    "path = '../USPTO-2M/*.json'\n",
    "files = glob.glob(path)\n",
    "df = pd.DataFrame([])\n",
    "for fn in files:\n",
    "    if (len(df) == 0):\n",
    "        df = pd.read_json(fn)\n",
    "    else:\n",
    "        df = df.append(pd.read_json(fn))"
   ]
  },
  {
   "cell_type": "code",
   "execution_count": 18,
   "metadata": {},
   "outputs": [
    {
     "data": {
      "text/html": [
       "<div>\n",
       "<style scoped>\n",
       "    .dataframe tbody tr th:only-of-type {\n",
       "        vertical-align: middle;\n",
       "    }\n",
       "\n",
       "    .dataframe tbody tr th {\n",
       "        vertical-align: top;\n",
       "    }\n",
       "\n",
       "    .dataframe thead th {\n",
       "        text-align: right;\n",
       "    }\n",
       "</style>\n",
       "<table border=\"1\" class=\"dataframe\">\n",
       "  <thead>\n",
       "    <tr style=\"text-align: right;\">\n",
       "      <th></th>\n",
       "      <th>Subclass_labels</th>\n",
       "      <th>Abstract</th>\n",
       "      <th>Title</th>\n",
       "      <th>No</th>\n",
       "    </tr>\n",
       "  </thead>\n",
       "  <tbody>\n",
       "    <tr>\n",
       "      <td>0</td>\n",
       "      <td>[G05B, H01L]</td>\n",
       "      <td>an apparatus for generating a saddle shaped tr...</td>\n",
       "      <td>saddle shaped trajectory generator for two int...</td>\n",
       "      <td>US08536817</td>\n",
       "    </tr>\n",
       "    <tr>\n",
       "      <td>1</td>\n",
       "      <td>[A61M]</td>\n",
       "      <td>the present invention provides apparatus and m...</td>\n",
       "      <td>balloon insertion apparatus and method of seal...</td>\n",
       "      <td>US08382794</td>\n",
       "    </tr>\n",
       "    <tr>\n",
       "      <td>2</td>\n",
       "      <td>[A01K]</td>\n",
       "      <td>a restraint system for an animal comprising a ...</td>\n",
       "      <td>retractable leash and restraint assembly</td>\n",
       "      <td>US08474414</td>\n",
       "    </tr>\n",
       "    <tr>\n",
       "      <td>3</td>\n",
       "      <td>[B29C, B65D]</td>\n",
       "      <td>a container or tray having various features th...</td>\n",
       "      <td>container having a rim or other feature encaps...</td>\n",
       "      <td>US08540111</td>\n",
       "    </tr>\n",
       "    <tr>\n",
       "      <td>4</td>\n",
       "      <td>[A61K]</td>\n",
       "      <td>the present invention relates to a process for...</td>\n",
       "      <td>process for the preparation or purification of...</td>\n",
       "      <td>US08592474</td>\n",
       "    </tr>\n",
       "  </tbody>\n",
       "</table>\n",
       "</div>"
      ],
      "text/plain": [
       "  Subclass_labels                                           Abstract  \\\n",
       "0    [G05B, H01L]  an apparatus for generating a saddle shaped tr...   \n",
       "1          [A61M]  the present invention provides apparatus and m...   \n",
       "2          [A01K]  a restraint system for an animal comprising a ...   \n",
       "3    [B29C, B65D]  a container or tray having various features th...   \n",
       "4          [A61K]  the present invention relates to a process for...   \n",
       "\n",
       "                                               Title          No  \n",
       "0  saddle shaped trajectory generator for two int...  US08536817  \n",
       "1  balloon insertion apparatus and method of seal...  US08382794  \n",
       "2           retractable leash and restraint assembly  US08474414  \n",
       "3  container having a rim or other feature encaps...  US08540111  \n",
       "4  process for the preparation or purification of...  US08592474  "
      ]
     },
     "execution_count": 18,
     "metadata": {},
     "output_type": "execute_result"
    }
   ],
   "source": [
    "df.head()"
   ]
  },
  {
   "cell_type": "code",
   "execution_count": 20,
   "metadata": {},
   "outputs": [],
   "source": [
    "#remove [] from the subclass_labels\n",
    "df['Subclass_labels'] = df['Subclass_labels'].map(lambda x: str(x).strip('[]'))"
   ]
  },
  {
   "cell_type": "code",
   "execution_count": 22,
   "metadata": {},
   "outputs": [],
   "source": [
    "df.to_csv('../USPTO-2M/uspto_2m.tsv', index=False, sep='\\t')"
   ]
  }
 ],
 "metadata": {
  "kernelspec": {
   "display_name": "Python [conda env:py3-tf2]",
   "language": "python",
   "name": "conda-env-py3-tf2-py"
  },
  "language_info": {
   "codemirror_mode": {
    "name": "ipython",
    "version": 3
   },
   "file_extension": ".py",
   "mimetype": "text/x-python",
   "name": "python",
   "nbconvert_exporter": "python",
   "pygments_lexer": "ipython3",
   "version": "3.7.4"
  }
 },
 "nbformat": 4,
 "nbformat_minor": 1
}
